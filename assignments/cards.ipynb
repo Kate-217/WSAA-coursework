{
 "cells": [
  {
   "cell_type": "code",
   "execution_count": 63,
   "metadata": {},
   "outputs": [
    {
     "name": "stdout",
     "output_type": "stream",
     "text": [
      "Your cards:\n",
      "8 SPADES\n",
      "JACK SPADES\n",
      "3 CLUBS\n",
      "4 HEARTS\n",
      "10 DIAMONDS\n"
     ]
    }
   ],
   "source": [
    "import requests\n",
    "import pandas as pd\n",
    "from collections import Counter\n",
    "\n",
    "# Shuffle and get the deck_id\n",
    "deck_count = 1\n",
    "shuffle_url = f\"https://deckofcardsapi.com/api/deck/new/shuffle/?deck_count={deck_count}\"\n",
    "response = requests.get(shuffle_url).json()\n",
    "deck_id = response['deck_id']\n",
    "\n",
    "#print(deck_id)\n",
    "\n",
    "# get the cards\n",
    "\n",
    "count=5\n",
    "draw_url = f\"https://deckofcardsapi.com/api/deck/{deck_id}/draw/?count={count}\"\n",
    "cards = requests.get(draw_url).json()[\"cards\"]\n",
    "# print(cards)\n",
    "#print(type(cards))\n",
    "\n",
    "values = []\n",
    "suits = []\n",
    "print(\"Your cards:\")\n",
    "for card in cards:\n",
    "    print(f\"{card['value']} {card['suit']}\")\n",
    "    values.append(card['value'])\n",
    "    suits.append(card['suit'])\n",
    "#print(f'Values: {values}')\n",
    "#print(f'Suits: {suits}')\n",
    "\n",
    "# I will try to find dublicates with pandas\n",
    "values_series = pd.Series(values)\n",
    "\n",
    "  "
   ]
  },
  {
   "cell_type": "code",
   "execution_count": 59,
   "metadata": {},
   "outputs": [
    {
     "data": {
      "text/plain": [
       "0"
      ]
     },
     "execution_count": 59,
     "metadata": {},
     "output_type": "execute_result"
    }
   ],
   "source": [
    "# this will count only pairs of duplicates-bad idea.\n",
    "values_series.duplicated().sum()\n"
   ]
  },
  {
   "cell_type": "code",
   "execution_count": 60,
   "metadata": {},
   "outputs": [
    {
     "name": "stdout",
     "output_type": "stream",
     "text": [
      "Your cards:7 HEARTS\n"
     ]
    }
   ],
   "source": [
    "# searched with chatGPT:\n",
    "counts = Counter(values) \n",
    "\n",
    "pairs = len([count for count in counts.values() if count == 2])\n",
    "triples = len([count for count in counts.values() if count == 3])\n",
    "\n",
    "\n",
    "if pairs == 1:\n",
    "    print('You have a pair')\n",
    "if triples == 1:\n",
    "    print('You have a triple')\n"
   ]
  }
 ],
 "metadata": {
  "kernelspec": {
   "display_name": "base",
   "language": "python",
   "name": "python3"
  },
  "language_info": {
   "codemirror_mode": {
    "name": "ipython",
    "version": 3
   },
   "file_extension": ".py",
   "mimetype": "text/x-python",
   "name": "python",
   "nbconvert_exporter": "python",
   "pygments_lexer": "ipython3",
   "version": "3.11.5"
  }
 },
 "nbformat": 4,
 "nbformat_minor": 2
}
