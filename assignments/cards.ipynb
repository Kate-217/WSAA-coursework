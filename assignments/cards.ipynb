{
 "cells": [
  {
   "cell_type": "code",
   "execution_count": 69,
   "metadata": {},
   "outputs": [],
   "source": [
    "# Author Katerina Lisovenko \n",
    "# This program \"deals\" (prints out) n cards and calculates duplicates and triples in its values.\n",
    "\n",
    "\n",
    "import requests\n",
    "from collections import Counter"
   ]
  },
  {
   "cell_type": "code",
   "execution_count": 70,
   "metadata": {},
   "outputs": [],
   "source": [
    "# Shuffle and get the deck_id\n",
    "\n",
    "deck_count = 1 #count for decks\n",
    "count = 5 #count for cards\n",
    "\n",
    "shuffle_url = f\"https://deckofcardsapi.com/api/deck/new/shuffle/?deck_count={deck_count}\"\n",
    "response = requests.get(shuffle_url).json()\n",
    "deck_id = response['deck_id']\n",
    "#print(deck_id)\n",
    "\n",
    "# get the cards\n",
    "draw_url = f\"https://deckofcardsapi.com/api/deck/{deck_id}/draw/?count={count}\"\n",
    "cards = requests.get(draw_url).json()[\"cards\"]\n",
    "#print(cards)\n"
   ]
  },
  {
   "cell_type": "code",
   "execution_count": 71,
   "metadata": {},
   "outputs": [
    {
     "name": "stdout",
     "output_type": "stream",
     "text": [
      "Your cards:\n",
      "10 CLUBS\n",
      "2 DIAMONDS\n",
      "5 SPADES\n",
      "QUEEN CLUBS\n",
      "QUEEN HEARTS\n"
     ]
    }
   ],
   "source": [
    "# print out the cards\n",
    "\n",
    "# Two lists to store the card data\n",
    "values = []\n",
    "suits = []\n",
    "print(\"Your cards:\")\n",
    "for card in cards:\n",
    "    print(f\"{card['value']} {card['suit']}\")\n",
    "    values.append(card['value'])\n",
    "    suits.append(card['suit'])\n",
    "#print(f'Values: {values}')\n",
    "#print(f'Suits: {suits}')\n",
    "\n"
   ]
  },
  {
   "cell_type": "code",
   "execution_count": 75,
   "metadata": {},
   "outputs": [
    {
     "name": "stdout",
     "output_type": "stream",
     "text": [
      "Counter({'QUEEN': 2, '10': 1, '2': 1, '5': 1})\n",
      "dict_values([1, 1, 1, 2])\n",
      "You have a pair!\n"
     ]
    }
   ],
   "source": [
    "# searched with chatGPT:\n",
    "# To count how many times each value is in the list:\n",
    "\n",
    "counts = Counter(values) \n",
    "print(counts)\n",
    "print(counts.values())\n",
    "\n",
    "pairs = len([count for count in counts.values() if count == 2])\n",
    "triples = len([count for count in counts.values() if count == 3])\n",
    "\n",
    "if pairs == 1:\n",
    "    print('You have a pair!')\n",
    "if triples == 1:\n",
    "    print('You have a triple!')"
   ]
  }
 ],
 "metadata": {
  "kernelspec": {
   "display_name": "base",
   "language": "python",
   "name": "python3"
  },
  "language_info": {
   "codemirror_mode": {
    "name": "ipython",
    "version": 3
   },
   "file_extension": ".py",
   "mimetype": "text/x-python",
   "name": "python",
   "nbconvert_exporter": "python",
   "pygments_lexer": "ipython3",
   "version": "3.11.5"
  }
 },
 "nbformat": 4,
 "nbformat_minor": 2
}
